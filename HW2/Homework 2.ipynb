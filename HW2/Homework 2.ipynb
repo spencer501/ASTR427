{
 "cells": [
  {
   "cell_type": "markdown",
   "metadata": {},
   "source": [
    "\n",
    "# Homework 2\n",
    "\n",
    "\n",
    "Spencer Pease  \n",
    "ASTR 427\n",
    "\n",
    "--------------------------"
   ]
  },
  {
   "cell_type": "code",
   "execution_count": 1,
   "metadata": {
    "collapsed": true
   },
   "outputs": [],
   "source": [
    "# Imports\n",
    "\n",
    "%matplotlib inline\n",
    "\n",
    "import numpy as np\n",
    "import matplotlib.pyplot as plt"
   ]
  },
  {
   "cell_type": "markdown",
   "metadata": {},
   "source": [
    "## Problem 1"
   ]
  },
  {
   "cell_type": "code",
   "execution_count": 2,
   "metadata": {
    "collapsed": true
   },
   "outputs": [],
   "source": [
    "# Euler method\n",
    "\n",
    "def euler(deriv, state, step):\n",
    "    \"\"\"\n",
    "    euler is a function that does one step of numerical integration given a state of values and a function\n",
    "    to find how those values change with time. It returns a new set of values one step ahead of the given values.\n",
    "    - deriv: function that evaluates the derivative of the given state\n",
    "    - state: list of values to perfom euler integration on\n",
    "    - step: interval over which to update the given state\n",
    "    - return: updated state\n",
    "    \"\"\"\n",
    "    state = np.array(state)\n",
    "    \n",
    "    return state + (step * deriv(state))"
   ]
  },
  {
   "cell_type": "code",
   "execution_count": 3,
   "metadata": {
    "collapsed": true
   },
   "outputs": [],
   "source": [
    "# Runge-Kutta\n",
    "\n",
    "def runge_kutta(deriv, state, step):\n",
    "    \"\"\"\n",
    "    runge_kutta is a function that does one step of numerical integration given a state of values and a function\n",
    "    to find how those values change with time. It returns a new set of values one step ahead of the given values.\n",
    "    - deriv: function that evaluates the derivative of the given state\n",
    "    - state: list of values to perfom Runge-Kutta integration on\n",
    "    - step: interval over which to update the given state\n",
    "    - return: updated state\n",
    "    \"\"\"\n",
    "    state = np.array(state)\n",
    "    \n",
    "    k1 = step * deriv(state)\n",
    "    k2 = step * deriv(state + k1/2)\n",
    "    k3 = step * deriv(state + k2/2)\n",
    "    k4 = step * deriv(state + k3)\n",
    "    \n",
    "    return state + (k1/6 + k2/3 + k3/3 + k4/6)"
   ]
  },
  {
   "cell_type": "code",
   "execution_count": 9,
   "metadata": {
    "collapsed": false
   },
   "outputs": [],
   "source": [
    "# Leapfrog\n",
    "\n",
    "def leapfrog(deriv, state, step):\n",
    "\"\"\"\n",
    "\n",
    "\"\"\"    \n",
    "    return\n",
    "    "
   ]
  },
  {
   "cell_type": "markdown",
   "metadata": {},
   "source": [
    "## Problem 2"
   ]
  },
  {
   "cell_type": "markdown",
   "metadata": {},
   "source": [
    "Equation to solve:\n",
    "    \n",
    "$\\frac{d^{2}x}{dt^{2}} + x = 0$\n",
    "\n",
    "Initial conditions:  \n",
    "`x(0) = 1`  \n",
    "`x'(0) = 0`"
   ]
  },
  {
   "cell_type": "code",
   "execution_count": 5,
   "metadata": {
    "collapsed": false
   },
   "outputs": [],
   "source": [
    "def deriv(y):\n",
    "    \"\"\"\n",
    "    function that, given a list of differential equations, returns a list containing the derivative of each equation\n",
    "    NOTE: this function only works for the differential equation defined above\n",
    "    - y: list of differential equations\n",
    "    - x: point to evaluate derivatives of y at\n",
    "    - return: derivative of each equation in y at point x\n",
    "    \"\"\"\n",
    "    dydx = np.array([y[1], -y[0]])\n",
    "    return dydx\n",
    "\n",
    "# List of initial conditions (given in same order as they correspond to x)\n",
    "# t; dx/dt\n",
    "# x(0) = 1; x'(0) = 0\n",
    "initial_state = [1, 0]\n",
    "\n",
    "# stepsize\n",
    "step = .03\n",
    "\n",
    "# integration range\n",
    "t = [0, 30]"
   ]
  },
  {
   "cell_type": "code",
   "execution_count": 6,
   "metadata": {
    "collapsed": false
   },
   "outputs": [
    {
     "name": "stdout",
     "output_type": "stream",
     "text": [
      "Numerical result via Euler's method with a 0.03 step size: 0.227920346306\n"
     ]
    }
   ],
   "source": [
    "# reset state to initial state\n",
    "state = initial_state\n",
    "\n",
    "# point to evaluate the state at\n",
    "index = t[0]\n",
    "\n",
    "# find the numerical integration value over the integration range `t` via Euler's method\n",
    "while index <= t[1]:\n",
    "    \n",
    "    new_state = euler(deriv, state, step)\n",
    "    state = new_state\n",
    "    index += step\n",
    "\n",
    "print \"Numerical result via Euler's method with a\", step, \"step size:\", state[0]"
   ]
  },
  {
   "cell_type": "markdown",
   "metadata": {},
   "source": [
    "This method is not very accurate above a .01 step size"
   ]
  },
  {
   "cell_type": "code",
   "execution_count": 7,
   "metadata": {
    "collapsed": false
   },
   "outputs": [
    {
     "name": "stdout",
     "output_type": "stream",
     "text": [
      "Numerical result via Runge-kutta with a 0.03 step size: 0.154251249095\n"
     ]
    }
   ],
   "source": [
    "# reset state to initial state\n",
    "state = initial_state\n",
    "\n",
    "# point to evaluate the state at\n",
    "index = t[0]\n",
    "\n",
    "# find the numerical integration value over the integration range `t` via Runge-Kutta\n",
    "while index <= t[1]:\n",
    "    \n",
    "    new_state = runge_kutta(deriv, state, step)\n",
    "    state = new_state\n",
    "    index += step\n",
    "\n",
    "print \"Numerical result via Runge-kutta with a\", step, \"step size:\", state[0]"
   ]
  },
  {
   "cell_type": "markdown",
   "metadata": {},
   "source": [
    "This method is not very accurate above a .3 step size"
   ]
  },
  {
   "cell_type": "code",
   "execution_count": 20,
   "metadata": {
    "collapsed": false
   },
   "outputs": [
    {
     "data": {
      "image/png": "[encoded data removed]",
      "text/plain": [
       "<matplotlib.figure.Figure at 0x6f06ba8>"
      ]
     },
     "metadata": {},
     "output_type": "display_data"
    }
   ],
   "source": [
    "#2b\n",
    "\n",
    "def test_step(method, deriv, initial_state, interval, step):\n",
    "    \"\"\"\n",
    "    test_step is a function created to perform numerical integration for various step sizes.\n",
    "    - method: numerical integration function that takes in parameters of deriv, state, and step\n",
    "    - deriv: function that evaluates the derivative of the given state\n",
    "    - initial_state: list of numbers defining the state at which to start evaluation\n",
    "    - interval: list containing the beginning and end points of the interval over which to do integration\n",
    "    - step: rate at which integration is perfomed over the interval\n",
    "    - retrun: numerical integration value defined by the above parameters\n",
    "    \"\"\"\n",
    "    index = interval[0]\n",
    "    state = initial_state\n",
    "\n",
    "    while index <= interval[1]:\n",
    "        new_state = method(deriv, state, step)\n",
    "        state = new_state\n",
    "        index += step\n",
    "\n",
    "    return state\n",
    "\n",
    "# range of step values to test\n",
    "h = np.linspace(.001, 1, 100)\n",
    "\n",
    "# list of integration results for varying step values\n",
    "e_result = []\n",
    "rk_result = []\n",
    "for j in h:\n",
    "    e_result.append(test_step(euler, deriv, initial_state, t, j)[0])\n",
    "    rk_result.append(test_step(runge_kutta, deriv, initial_state, t, j)[0])\n",
    "\n",
    "# difference between numerical integration and the analytical result for varying step values\n",
    "e_result = np.array(e_result) - np.cos(30)\n",
    "rk_result = np.array(rk_result) - np.cos(30)\n",
    "\n",
    "# plotting\n",
    "plt.xlim(0, 1)\n",
    "plt.ylim(-10, 15)\n",
    "plt.plot(h, np.log(np.absolute(e_result)), label='Euler')\n",
    "plt.plot(h, np.log(np.absolute(rk_result)), label='Runge-Kutta')\n",
    "\n",
    "plt.legend(loc='center left', bbox_to_anchor=(1, 0.5))\n",
    "plt.xlabel('step size')\n",
    "plt.ylabel('log(difference)')\n",
    "plt.show()\n"
   ]
  },
  {
   "cell_type": "markdown",
   "metadata": {},
   "source": [
    "## Problem 3"
   ]
  },
  {
   "cell_type": "code",
   "execution_count": 16,
   "metadata": {
    "collapsed": false
   },
   "outputs": [
    {
     "name": "stdout",
     "output_type": "stream",
     "text": [
      "Numerical results via Runge-kutta with a 0.01 step size: 0.112635245701 0.808830544136\n"
     ]
    }
   ],
   "source": [
    "def deriv2(y):\n",
    "    result = [y[2], y[3], -y[0]/(1 + y[0]**2 + y[1]**2)**(3/2), -y[1]/(1 + y[0]**2 + y[1]**2)**(3/2)]\n",
    "    return np.array(result)\n",
    "\n",
    "initial_state2 = [1, 0, 0, .3]\n",
    "t2 = [0, 100]\n",
    "step2 = .01"
   ]
  },
  {
   "cell_type": "code",
   "execution_count": 29,
   "metadata": {
    "collapsed": false
   },
   "outputs": [
    {
     "name": "stdout",
     "output_type": "stream",
     "text": [
      "Numerical results via Runge-kutta with a 0.01 step size: 0.112635245701 0.808830544136\n"
     ]
    }
   ],
   "source": [
    "#3a\n",
    "\n",
    "# reset state to initial state\n",
    "state = initial_state2\n",
    "\n",
    "# point to evaluate the state at\n",
    "index = t2[0]\n",
    "\n",
    "# find the numerical integration value over the integration range `t2` via Runge-Kutta\n",
    "while index <= t2[1]:\n",
    "    \n",
    "    new_state = runge_kutta(deriv2, state, step2)\n",
    "    state = new_state\n",
    "    index += step\n",
    "\n",
    "print \"Numerical results via Runge-kutta with a\", step2, \"step size:\", state[0], state[1]"
   ]
  },
  {
   "cell_type": "code",
   "execution_count": 30,
   "metadata": {
    "collapsed": false,
    "scrolled": true
   },
   "outputs": [
    {
     "data": {
      "image/png": "[encoded data removed]",
      "text/plain": [
       "<matplotlib.figure.Figure at 0x88c5d30>"
      ]
     },
     "metadata": {},
     "output_type": "display_data"
    }
   ],
   "source": [
    "#3a\n",
    "\n",
    "h2 = np.linspace(.01, 1, 100)\n",
    "\n",
    "x_result = []\n",
    "y_result = []\n",
    "for j in h2:\n",
    "    x_result.append(test_step(runge_kutta, deriv2, initial_state2, t2, j)[0])\n",
    "    y_result.append(test_step(runge_kutta, deriv2, initial_state2, t2, j)[1])\n",
    "\n",
    "plt.xlim(0, 1)\n",
    "plt.ylim(-1, 1)\n",
    "plt.plot(h2, x_result, label='x values')\n",
    "plt.plot(h2, y_result, label='y values')\n",
    "\n",
    "plt.xlabel('step size')\n",
    "plt.ylabel('numerical evaluation')\n",
    "plt.legend(loc='center left', bbox_to_anchor=(1, 0.5))\n",
    "plt.show()"
   ]
  },
  {
   "cell_type": "code",
   "execution_count": null,
   "metadata": {
    "collapsed": true
   },
   "outputs": [],
   "source": [
    "#3b\n",
    "\n"
   ]
  }
 ],
 "metadata": {
  "kernelspec": {
   "display_name": "Python 2",
   "language": "python",
   "name": "python2"
  },
  "language_info": {
   "codemirror_mode": {
    "name": "ipython",
    "version": 2
   },
   "file_extension": ".py",
   "mimetype": "text/x-python",
   "name": "python",
   "nbconvert_exporter": "python",
   "pygments_lexer": "ipython2",
   "version": "2.7.11"
  }
 },
 "nbformat": 4,
 "nbformat_minor": 0
}
