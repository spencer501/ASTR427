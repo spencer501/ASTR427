{
 "cells": [
  {
   "cell_type": "markdown",
   "metadata": {},
   "source": [
    "# Homework 5\n",
    "\n",
    "Spencer Pease  \n",
    "ASTR 427\n",
    "\n",
    "----------------------------"
   ]
  },
  {
   "cell_type": "code",
   "execution_count": 1,
   "metadata": {
    "collapsed": false
   },
   "outputs": [],
   "source": [
    "# Imports\n",
    "\n",
    "import numpy as np\n",
    "import matplotlib.pyplot as plt\n",
    "import random as rand\n",
    "\n",
    "import pycuda.autoinit\n",
    "import pycuda.driver as drv\n",
    "\n",
    "from pycuda.compiler import SourceModule\n",
    "from pycuda import curandom\n",
    "\n",
    "%matplotlib inline"
   ]
  },
  {
   "cell_type": "code",
   "execution_count": 2,
   "metadata": {
    "collapsed": true
   },
   "outputs": [],
   "source": [
    "# create consistent number of evaluations to perform for all monte carlo integrations\n",
    "points = 1000000"
   ]
  },
  {
   "cell_type": "markdown",
   "metadata": {},
   "source": [
    "## Problem 1"
   ]
  },
  {
   "cell_type": "code",
   "execution_count": 3,
   "metadata": {
    "collapsed": false
   },
   "outputs": [],
   "source": [
    "# estimate pi with cpu\n",
    "\n",
    "def monteCarlo(n):\n",
    "    \"\"\"\n",
    "    monteCarlo defines a function that integrates a unit circle (radius = 1) using Monte Carlo integration\n",
    "    with and integer n number of evaluations.\n",
    "    - n: integer number of evaluations to be used in the Monte Carlo integration\n",
    "    - return: the area of the unit circle (~pi)\n",
    "    \"\"\"\n",
    "    \n",
    "    # number of guesses that fall on or within the circle\n",
    "    inside = 0\n",
    "    \n",
    "    for _ in range(n):\n",
    "        x = rand.random()\n",
    "        y = rand.random()\n",
    "        \n",
    "        if x**2 + y**2 <= 1:\n",
    "            inside += 1\n",
    "    \n",
    "    # area for one quadrant of the circle\n",
    "    area = float(inside)/n\n",
    "    \n",
    "    # area of the entire circle (~pi)\n",
    "    return area*4"
   ]
  },
  {
   "cell_type": "code",
   "execution_count": 4,
   "metadata": {
    "collapsed": false
   },
   "outputs": [
    {
     "name": "stdout",
     "output_type": "stream",
     "text": [
      "pi: 3.143392\n",
      "Wall time: 605 ms\n"
     ]
    }
   ],
   "source": [
    "%%time\n",
    "\n",
    "print \"pi:\", monteCarlo(points)"
   ]
  },
  {
   "cell_type": "code",
   "execution_count": 5,
   "metadata": {
    "collapsed": false
   },
   "outputs": [
    {
     "data": {
      "image/png": "[encoded data removed]",
      "text/plain": [
       "<matplotlib.figure.Figure at 0x7df80f0>"
      ]
     },
     "metadata": {},
     "output_type": "display_data"
    },
    {
     "name": "stdout",
     "output_type": "stream",
     "text": [
      "Monte Carlo gets more accurate with more evaulation points\n"
     ]
    }
   ],
   "source": [
    "# plotting error\n",
    "\n",
    "n = np.arange(1, 10001)\n",
    "error = 1/np.sqrt(n) # error for Monte Carlo is proportional to 1/sqrt(n)\n",
    "\n",
    "plt.figure(1)\n",
    "plt.xlim(0, 5)\n",
    "plt.ylim(-1, 0)\n",
    "plt.plot(np.log(n), np.log(error))\n",
    "\n",
    "# labeling\n",
    "plt.title('graph of log(error)')\n",
    "plt.xlabel('log(n)')\n",
    "plt.ylabel('log(error)')\n",
    "\n",
    "plt.show()\n",
    "\n",
    "print \"Monte Carlo gets more accurate with more evaulation points\""
   ]
  },
  {
   "cell_type": "markdown",
   "metadata": {},
   "source": [
    "## Problem 2"
   ]
  },
  {
   "cell_type": "code",
   "execution_count": 6,
   "metadata": {
    "collapsed": false
   },
   "outputs": [],
   "source": [
    "# estimate pi with gpu\n",
    "def monteCarlo_gpu(n):\n",
    "    \"\"\"\n",
    "    monteCarlo_gpu performs Monte Carlo integration on a unit circle with an integer n evaluatios.\n",
    "    This function makes use of CUDA to run more efficiently.\n",
    "    - n: integer number of evualuations to use for Monte Carlo\n",
    "    - return: the area of the unit circle (~pi)\n",
    "    \"\"\"\n",
    "    \n",
    "    # create function that runs on the gpu (meta-programming)\n",
    "    mod = SourceModule(\"\"\"\n",
    "    __global__ void mc_gpu(float *dest, float *x, float *y, int n)\n",
    "    {\n",
    "        const int i = blockIdx.x * blockDim.x + threadIdx.x;\n",
    "\n",
    "        if (i <= n) return;\n",
    "        if ( (pow(x[i],2) + pow(y[i],2)) < 1 ) \n",
    "        {\n",
    "            dest[i] = 1;\n",
    "        }\n",
    "        else \n",
    "        {\n",
    "            dest[i] = 0;\n",
    "        }\n",
    "    }\n",
    "    \"\"\")\n",
    "    \n",
    "    # assign meta-function to usable python function\n",
    "    mc_gpu = mod.get_function(\"mc_gpu\")\n",
    "\n",
    "    # generate all random x and y guesses\n",
    "    x = np.random.uniform(0, 1, n).astype(np.float32)\n",
    "    y = np.random.uniform(0, 1, n).astype(np.float32)\n",
    "    \n",
    "    # create array to store results retrieved from gpu\n",
    "    out_loc = np.zeros_like(x) \n",
    "    \n",
    "    # fill created array with results from gpu\n",
    "    mc_gpu(drv.Out(out_loc), drv.In(x), drv.In(y), block=(512, 1, 1), grid=(int(np.ceil(n/512.0)), 1))\n",
    "    \n",
    "    # area of one quadrant of unit circle\n",
    "    area = np.sum(out_loc)/n\n",
    "    \n",
    "    return 4*area # area of circle (~pi)"
   ]
  },
  {
   "cell_type": "code",
   "execution_count": 7,
   "metadata": {
    "collapsed": false
   },
   "outputs": [
    {
     "name": "stdout",
     "output_type": "stream",
     "text": [
      "3.140588\n",
      "Wall time: 97 ms\n"
     ]
    }
   ],
   "source": [
    "%%time\n",
    "\n",
    "print monteCarlo_gpu(points)"
   ]
  }
 ],
 "metadata": {
  "kernelspec": {
   "display_name": "Python 2",
   "language": "python",
   "name": "python2"
  },
  "language_info": {
   "codemirror_mode": {
    "name": "ipython",
    "version": 2
   },
   "file_extension": ".py",
   "mimetype": "text/x-python",
   "name": "python",
   "nbconvert_exporter": "python",
   "pygments_lexer": "ipython2",
   "version": "2.7.11"
  }
 },
 "nbformat": 4,
 "nbformat_minor": 0
}
