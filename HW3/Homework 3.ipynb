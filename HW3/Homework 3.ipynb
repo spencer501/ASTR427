{
 "cells": [
  {
   "cell_type": "markdown",
   "metadata": {},
   "source": [
    "# Homework 3\n",
    "\n",
    "Spencer Pease  \n",
    "ASTR 427\n",
    "\n",
    "----------------------------"
   ]
  },
  {
   "cell_type": "code",
   "execution_count": 2,
   "metadata": {
    "collapsed": true
   },
   "outputs": [],
   "source": [
    "# Imports\n",
    "\n",
    "%matplotlib inline\n",
    "\n",
    "import numpy as np\n",
    "import matplotlib.pyplot as plt"
   ]
  },
  {
   "cell_type": "markdown",
   "metadata": {},
   "source": [
    "## Problem 1"
   ]
  },
  {
   "cell_type": "code",
   "execution_count": 44,
   "metadata": {
    "collapsed": false
   },
   "outputs": [],
   "source": [
    "# Bisection method\n",
    "\n",
    "def bisection(a, b):\n",
    "    \"\"\"\n",
    "    \"\"\"\n",
    "    c = (a + b)/2\n",
    "    return c"
   ]
  },
  {
   "cell_type": "code",
   "execution_count": 45,
   "metadata": {
    "collapsed": true
   },
   "outputs": [],
   "source": [
    "# Newton-Raphson method\n",
    "\n",
    "def newton(x0, f0, df0):\n",
    "    \"\"\"\n",
    "    \"\"\"\n",
    "    x = x0 - (fx0/dfx0)\n",
    "    return x"
   ]
  },
  {
   "cell_type": "markdown",
   "metadata": {},
   "source": [
    "Simple test case:  \n",
    "  \n",
    "$x^{2} = z$"
   ]
  },
  {
   "cell_type": "code",
   "execution_count": 43,
   "metadata": {
    "collapsed": false
   },
   "outputs": [
    {
     "data": {
      "image/png": "[encoded data removed]",
      "text/plain": [
       "<matplotlib.figure.Figure at 0x79ab0b8>"
      ]
     },
     "metadata": {},
     "output_type": "display_data"
    },
    {
     "name": "stdout",
     "output_type": "stream",
     "text": [
      "final value: 9.06325876713e-05\n",
      "iterations: 16\n"
     ]
    }
   ],
   "source": [
    "# (a) bisection\n",
    "\n",
    "z = 2\n",
    "def f1(x):\n",
    "    return x**2 - z\n",
    "\n",
    "c_val = []\n",
    "fc_val = []\n",
    "\n",
    "a = -1.\n",
    "b = 3.\n",
    "\n",
    "i = 0\n",
    "while np.abs(b - a) > 1e-4:\n",
    "    i += 1\n",
    "    c = bisection(a, b)\n",
    "    fc = f1(c)\n",
    "    \n",
    "    c_val.append(c)\n",
    "    fc_val.append(fc)\n",
    "    \n",
    "    if f1(a) * fc < 0:\n",
    "        b = c\n",
    "    elif f1(b) * fc < 0:\n",
    "        a = c\n",
    "    else:\n",
    "        break\n",
    "\n",
    "c_val = np.array(c_val)\n",
    "fc_val = np.array(fc_val)\n",
    "\n",
    "x = np.linspace(-5, 5, 100)\n",
    "\n",
    "plt.xlim(.5, 2.5)\n",
    "plt.ylim(-2, 3)\n",
    "plt.plot(x, f1(x))\n",
    "plt.plot(x, [0]*x)\n",
    "plt.plot(c_val, fc_val, marker='o', linestyle='none')\n",
    "plt.show()\n",
    "\n",
    "print \"final value:\", fc_val[-1]\n",
    "print \"iterations:\", i"
   ]
  },
  {
   "cell_type": "code",
   "execution_count": null,
   "metadata": {
    "collapsed": false
   },
   "outputs": [],
   "source": [
    "# (a) newton\n",
    "\n"
   ]
  },
  {
   "cell_type": "markdown",
   "metadata": {},
   "source": [
    "Kepler's equation:  \n",
    "  \n",
    "$M = E - e\\sin(E)$"
   ]
  },
  {
   "cell_type": "code",
   "execution_count": null,
   "metadata": {
    "collapsed": true
   },
   "outputs": [],
   "source": [
    "# (b)"
   ]
  },
  {
   "cell_type": "markdown",
   "metadata": {},
   "source": [
    "## Problem 2"
   ]
  },
  {
   "cell_type": "code",
   "execution_count": null,
   "metadata": {
    "collapsed": true
   },
   "outputs": [],
   "source": []
  }
 ],
 "metadata": {
  "kernelspec": {
   "display_name": "Python 2",
   "language": "python",
   "name": "python2"
  },
  "language_info": {
   "codemirror_mode": {
    "name": "ipython",
    "version": 2
   },
   "file_extension": ".py",
   "mimetype": "text/x-python",
   "name": "python",
   "nbconvert_exporter": "python",
   "pygments_lexer": "ipython2",
   "version": "2.7.11"
  }
 },
 "nbformat": 4,
 "nbformat_minor": 0
}
