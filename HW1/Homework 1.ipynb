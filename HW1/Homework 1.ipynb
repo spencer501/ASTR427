{
 "cells": [
  {
   "cell_type": "markdown",
   "metadata": {
    "collapsed": false
   },
   "source": [
    "\n",
    "## Homework 1\n",
    "\n",
    "\n",
    "Spencer Pease  \n",
    "ASTR 427\n",
    "\n",
    "--------------------------\n"
   ]
  },
  {
   "cell_type": "code",
   "execution_count": 1,
   "metadata": {
    "collapsed": true
   },
   "outputs": [],
   "source": [
    "# Imports\n",
    "\n",
    "%matplotlib inline\n",
    "\n",
    "import numpy as np\n",
    "import pandas as pd\n",
    "import matplotlib.pyplot as plt"
   ]
  },
  {
   "cell_type": "markdown",
   "metadata": {},
   "source": [
    "## Problem 1"
   ]
  },
  {
   "cell_type": "code",
   "execution_count": 2,
   "metadata": {
    "collapsed": false
   },
   "outputs": [
    {
     "data": {
      "text/plain": [
       "5.551115123125783e-17"
      ]
     },
     "execution_count": 2,
     "metadata": {},
     "output_type": "execute_result"
    }
   ],
   "source": [
    "# Problem 1a\n",
    "\n",
    "itr = 1 # iterator\n",
    "\n",
    "epsilon = 2**(itr) # offset from 1 (in terms of general floting point formula)\n",
    "result = 1.0 - epsilon # measured difference\n",
    "\n",
    "while result != 1:\n",
    "    itr -= 1\n",
    "    \n",
    "    epsilon = 2.0**(itr)\n",
    "    result = 1 - epsilon\n",
    "\n",
    "    \n",
    "epsilon # answer: smallest measuralbe offset below 1"
   ]
  },
  {
   "cell_type": "code",
   "execution_count": 3,
   "metadata": {
    "collapsed": false
   },
   "outputs": [
    {
     "data": {
      "text/plain": [
       "1.1102230246251565e-16"
      ]
     },
     "execution_count": 3,
     "metadata": {},
     "output_type": "execute_result"
    }
   ],
   "source": [
    "# Problem 1b\n",
    "\n",
    "itr = 1 # iterator\n",
    "\n",
    "epsilon = 2**(itr) # offset (in terms of general floting point formula)\n",
    "result = 1.0 + epsilon # measured difference\n",
    "\n",
    "while result != 1:\n",
    "    itr = itr - 1 \n",
    "    \n",
    "    epsilon = 2.0**(itr)\n",
    "    result = 1 + epsilon\n",
    "\n",
    "    \n",
    "epsilon # answer: smallest measurable offset above 1"
   ]
  },
  {
   "cell_type": "code",
   "execution_count": 4,
   "metadata": {
    "collapsed": false
   },
   "outputs": [
    {
     "data": {
      "text/plain": [
       "8.98846567431158e+307"
      ]
     },
     "execution_count": 4,
     "metadata": {},
     "output_type": "execute_result"
    }
   ],
   "source": [
    "# Problem 1c\n",
    "value = 2.0 # current max value\n",
    "\n",
    "while value * 2.0 < np.inf:\n",
    "    value *= 2.0\n",
    "\n",
    "inc_fac = 1.0 # incrementing factor: value to multiple against current max\n",
    "\n",
    "while value * inc_fac < np.inf:\n",
    "    inc_fac += .000000000001\n",
    "    inc_fac *= inc_fac\n",
    "    \n",
    "maxnum = value \n",
    "maxnum # maximun representible positive number"
   ]
  },
  {
   "cell_type": "code",
   "execution_count": 5,
   "metadata": {
    "collapsed": false
   },
   "outputs": [
    {
     "data": {
      "text/plain": [
       "5e-324"
      ]
     },
     "execution_count": 5,
     "metadata": {},
     "output_type": "execute_result"
    }
   ],
   "source": [
    "# Problem 1d\n",
    "value = 2.0 # current min value\n",
    "\n",
    "while value / 2.0 > 0:\n",
    "    value /= 2.0\n",
    "\n",
    "minnum = value\n",
    "minnum # minimum representable positive number"
   ]
  },
  {
   "cell_type": "markdown",
   "metadata": {},
   "source": [
    "The smallest change above 1 is greater than the smallest change below one because the difference between representable numbers is smaller for lower values.\n",
    "\n",
    "It is easier to represent the minimun value than the maximun value becuase the minimum positive representable positive number has a non-fractional binary representation, allowing us to find the exact value. The maximim representable value, however, has a repeating factional representation in binary, so it is difficult to exactly find through emperical methods."
   ]
  },
  {
   "cell_type": "markdown",
   "metadata": {},
   "source": [
    "## Problem 2\n",
    "\n",
    " Numerically:\n",
    " \n",
    " $\\lim _{x \\to 0} \\frac{1 - \\cos{x}}{x^{2}} = \\frac{1}{2}$"
   ]
  },
  {
   "cell_type": "code",
   "execution_count": 6,
   "metadata": {
    "collapsed": false,
    "scrolled": false
   },
   "outputs": [
    {
     "data": {
      "image/png": "[encoded data removed]",
      "text/plain": [
       "<matplotlib.figure.Figure at 0x843fdd8>"
      ]
     },
     "metadata": {},
     "output_type": "display_data"
    }
   ],
   "source": [
    "x = np.linspace(0, 6e-8, 1000) # domain to plot fucntion over\n",
    "func = ((1 - np.cos(x)) / (x**2)) # function to plot\n",
    "numerical = 1000*[.5] # line with the value of the numerical limit\n",
    "\n",
    "plt.xlim(0, 6e-8)\n",
    "plt.ylim(-0.1, 1.1)\n",
    "plt.plot(x, func)\n",
    "plt.plot(x, numerical)\n",
    "plt.show()"
   ]
  },
  {
   "cell_type": "markdown",
   "metadata": {},
   "source": [
    "In the analytical solution, when x decreases past 1e-7, it becomes apparrent that the computer is unable to accurately represent continuous values, as seen in the sawtooth behavior of the function. Also, the function drops to 0 for x values lower than 1e-8 because the function involve x^2, and the computer can't distinguish between number changes less than ~1e-18, so it approximates the function to 0. "
   ]
  },
  {
   "cell_type": "markdown",
   "metadata": {},
   "source": [
    "## Problem 3"
   ]
  },
  {
   "cell_type": "code",
   "execution_count": 7,
   "metadata": {
    "collapsed": false
   },
   "outputs": [],
   "source": [
    "# Problem 3a\n",
    "\n",
    "# Reads in a data file with the given file path\n",
    "# Returns an array of defined coordinates\n",
    "def read_dat(filename):\n",
    "    data = np.loadtxt(filename)\n",
    "    return data\n",
    "\n",
    "# finds the points defined in the given array of data that most closely bound the given interpolation point\n",
    "# Returns an array of two points\n",
    "def lin_interp_bounds(data, point):\n",
    "    index_x1 = 0\n",
    "    while data[index_x1 + 1][0] < point:\n",
    "        index_x1 += 1\n",
    "    \n",
    "    p1 = [data[index_x1][0], data[index_x1][1]]\n",
    "    p2 = [data[index_x1+1][0], data[index_x1+1][1]]\n",
    "    \n",
    "    return p1, p2\n",
    "\n",
    "# Finds the linear interpolation of a given point based on a given array of defined points\n",
    "# Returns the linear interpolation value\n",
    "def lin_interp_point(data, point):\n",
    "    \n",
    "    [p1, p2] = lin_interp_bounds(data, point)\n",
    "    x1 = p1[0]\n",
    "    y1 = p1[1]\n",
    "    x2 = p2[0]\n",
    "    y2 = p2[1]\n",
    "    \n",
    "    interpolation = y1 + (point - x1) * (y2 - y1)/(x2 - x1)\n",
    "    \n",
    "    return interpolation\n"
   ]
  },
  {
   "cell_type": "code",
   "execution_count": 8,
   "metadata": {
    "collapsed": false
   },
   "outputs": [
    {
     "data": {
      "text/plain": [
       "4.5625"
      ]
     },
     "execution_count": 8,
     "metadata": {},
     "output_type": "execute_result"
    }
   ],
   "source": [
    "# Problem 3b\n",
    "\n",
    "file = open('hw1.dat') # location of file containing needed data\n",
    "data = read_dat(file) # array of values defined in the given file\n",
    "\n",
    "point = 4.75 # point to interpolate\n",
    "\n",
    "interpolation = lin_interp_point(data, point)\n",
    "interpolation # answer: linear interpolation"
   ]
  },
  {
   "cell_type": "code",
   "execution_count": 9,
   "metadata": {
    "collapsed": false
   },
   "outputs": [
    {
     "data": {
      "text/plain": [
       "2.9516602099609388"
      ]
     },
     "execution_count": 9,
     "metadata": {},
     "output_type": "execute_result"
    }
   ],
   "source": [
    "# Problem 3c\n",
    "\n",
    "# given an array of defined points and a point to interpolate, construct the highest order polynomial possible\n",
    "# that fits the given data.\n",
    "# Return the interpolation of the given point using the constructed polynomial\n",
    "def neville(data, point):\n",
    "    \n",
    "    n = len(data)\n",
    "    p = n*[0]\n",
    "    \n",
    "    for k in range(n):\n",
    "        \n",
    "        for j in range(n-k):\n",
    "            \n",
    "            if k == 0:\n",
    "                p[j] = data[j][1]\n",
    "                \n",
    "            else:\n",
    "                p[j] = ((data[j+k][0] - point)*p[j] + (point - data[j][0])*p[j+1]) / (data[j][0] - data[j+k][0])\n",
    "          \n",
    "    return p[0]\n",
    "\n",
    "estimate = neville(data, point)\n",
    "estimate # answer: approximation given by Neville's algorithm"
   ]
  },
  {
   "cell_type": "code",
   "execution_count": 10,
   "metadata": {
    "collapsed": false
   },
   "outputs": [],
   "source": [
    "# Problem 3d (setup)\n",
    "\n",
    "# Defines the actual function for the dataset\n",
    "# returns the the evaluation of the function at a given point\n",
    "# NOTE: MUST BE DEFINED BY THE USER\n",
    "def func_actual(x):\n",
    "    \n",
    "    result = 100 / x**2\n",
    "    return result\n",
    "\n",
    "# Defines a linear function determined by the two given point arrays\n",
    "# Returns the evaluation of the function at the given `x`\n",
    "def func_lin(p1, p2, x):\n",
    "    \n",
    "    x1 = p1[0]\n",
    "    x2 = p2[0]\n",
    "    y1 = p1[1]\n",
    "    y2 = p2[1]\n",
    "    \n",
    "    slope = (y2 - y1) / (x2 - x1)\n",
    "    \n",
    "    result = slope*(x - x1) + y1\n",
    "    return result"
   ]
  },
  {
   "cell_type": "markdown",
   "metadata": {},
   "source": [
    "In the case of the given data, at **```x = 4.75```**, linear interpolation produces a value closer to the value given by the actual function than interpolation with Neville's algorithm.\n",
    "\n",
    "The polynomial given with Neville interpolation does not have enough data to closely match the actual function for values outside of the given data, as you can see when the polynomial increases rapidly around **```x = 5```**. Even though linear intepolation is generally less accurate, in this case the actual function lends itsel well to being approximated over small intervals with linear equations becuase the derivative is linear.\n",
    "\n",
    "The plot below shows the actual function, Neville interpolation, and linear interpolation about the point of interest, allowing you to compare wich interpolation is more accurate.\n"
   ]
  },
  {
   "cell_type": "code",
   "execution_count": 11,
   "metadata": {
    "collapsed": false
   },
   "outputs": [
    {
     "data": {
      "image/png": "[encoded data removed]",
      "text/plain": [
       "<matplotlib.figure.Figure at 0x3fd2e80>"
      ]
     },
     "metadata": {},
     "output_type": "display_data"
    }
   ],
   "source": [
    "# Problem 3d (plotting)\n",
    "\n",
    "[p1, p2] = lin_interp_bounds(data, point) # point arrays of the defined data points that bound the interpolation point\n",
    "y_center = (p1[1] + p2[1]) / 2 # average y-value of the bounding points\n",
    "\n",
    "x = np.linspace(p1[0]-1, p2[0]+1, 100) # domian to plot function over\n",
    "\n",
    "plt.xlim(p1[0]-1, p2[0]+1)\n",
    "plt.ylim(y_center - 10, y_center + 10)\n",
    "plt.plot(x, neville(data, x), label='Neville interp.')\n",
    "plt.plot(x, func_lin(p1, p2, x), label='linear interp.')\n",
    "plt.plot(x, func_actual(x), label='Actual function')\n",
    "plt.legend(loc='center left', bbox_to_anchor=(1, 0.5))\n",
    "plt.show()"
   ]
  }
 ],
 "metadata": {
  "kernelspec": {
   "display_name": "Python 2",
   "language": "python",
   "name": "python2"
  },
  "language_info": {
   "codemirror_mode": {
    "name": "ipython",
    "version": 2
   },
   "file_extension": ".py",
   "mimetype": "text/x-python",
   "name": "python",
   "nbconvert_exporter": "python",
   "pygments_lexer": "ipython2",
   "version": "2.7.11"
  }
 },
 "nbformat": 4,
 "nbformat_minor": 0
}
