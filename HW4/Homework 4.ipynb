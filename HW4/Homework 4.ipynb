{
 "cells": [
  {
   "cell_type": "markdown",
   "metadata": {},
   "source": [
    "# Homework 4\n",
    "\n",
    "Spencer Pease  \n",
    "ASTR 427\n",
    "\n",
    "----------------------------"
   ]
  },
  {
   "cell_type": "code",
   "execution_count": 1,
   "metadata": {
    "collapsed": true
   },
   "outputs": [],
   "source": [
    "# Imports\n",
    "\n",
    "import numpy as np"
   ]
  },
  {
   "cell_type": "markdown",
   "metadata": {},
   "source": [
    "## Problem 1"
   ]
  },
  {
   "cell_type": "code",
   "execution_count": 7,
   "metadata": {
    "collapsed": false
   },
   "outputs": [],
   "source": [
    "# Golden Section Search method\n",
    "\n",
    "def goldenSearch(lb, rb, f, tol=1e-6):\n",
    "    \"\"\"\n",
    "    \n",
    "    - lb: left bound\n",
    "    - rb: right bound\n",
    "    - f: function of a single variable\n",
    "    - tol: tolerance of the minimum required distance between lb and rb (default 1e-6)\n",
    "    - return: location of minimun of function f\n",
    "    \"\"\"\n",
    "    \n",
    "    #golden ration ~ .618\n",
    "    gratio = (np.sqrt(5) - 1) / 2 \n",
    "    \n",
    "    # evaluate function at bounds\n",
    "    flb = f(lb)\n",
    "    frb = f(rb)\n",
    "    \n",
    "    # compute interal 'midpoints'\n",
    "    lm = rb - gratio*(rb - lb) \n",
    "    rm = lb + gratio*(rb - lb)\n",
    "    \n",
    "    # evaluate function at interanl 'midpoints'\n",
    "    flm = f(lm)\n",
    "    frm = f(rm)\n",
    "    \n",
    "    while (np.abs(lb - rb) > tol):\n",
    "        if flm < frm:\n",
    "            rb = rm\n",
    "            rm = lm\n",
    "            lm = rb - gratio*(rb - lb)\n",
    "            frm = flm\n",
    "            flm = f(lm)\n",
    "        else:\n",
    "            lb = lm\n",
    "            lm = rm\n",
    "            rm = lb + gratio*(rb - lb)\n",
    "            flm = frm \n",
    "            frm = f(rm)\n",
    "               \n",
    "    return (rb + lb) / 2"
   ]
  },
  {
   "cell_type": "code",
   "execution_count": 3,
   "metadata": {
    "collapsed": true
   },
   "outputs": [],
   "source": [
    "def gss(f, a, b, tol=1e-5):\n",
    "    '''\n",
    "    golden section search\n",
    "    to find the minimum of f on [a,b]\n",
    "    f: a strictly unimodal function on [a,b]\n",
    "\n",
    "    example:\n",
    "    >>> f = lambda x: (x-2)**2\n",
    "    >>> x = gss(f, 1, 5)\n",
    "    >>> x\n",
    "    2.000009644875678\n",
    "\n",
    "    '''\n",
    "    gr = (np.sqrt(5) - 1) / 2\n",
    "\n",
    "    c = b - gr * (b - a)\n",
    "    d = a + gr * (b - a)\n",
    "    while abs(c - d) > tol:\n",
    "        if f(c) < f(d):\n",
    "            b = d\n",
    "        else:\n",
    "            a = c\n",
    "\n",
    "        # we recompute both c and d here to avoid loss of precision which may lead to incorrect results or infinite loop\n",
    "        c = b - gr * (b - a)\n",
    "        d = a + gr * (b - a)\n",
    "\n",
    "    return (b + a) / 2"
   ]
  },
  {
   "cell_type": "code",
   "execution_count": 8,
   "metadata": {
    "collapsed": false
   },
   "outputs": [
    {
     "name": "stdout",
     "output_type": "stream",
     "text": [
      "0 \t3.05572809 \t4.94427191 \t8 \tmidpoint: 4\n",
      "0 \t1.88854382 \t3.05572809 \t4.94427191 \tmidpoint: 2.472135955\n",
      "1.88854382 \t3.05572809 \t3.77708764 \t4.94427191 \tmidpoint: 3.416407865\n",
      "1.88854382 \t2.60990336999 \t3.05572809 \t3.77708764 \tmidpoint: 2.83281573\n",
      "2.60990336999 \t3.05572809 \t3.33126291999 \t3.77708764 \tmidpoint: 3.193495505\n",
      "2.60990336999 \t2.88543819998 \t3.05572809 \t3.33126291999 \tmidpoint: 2.97058314499\n",
      "2.88543819998 \t3.05572809 \t3.16097302997 \t3.33126291999 \tmidpoint: 3.10835055999\n",
      "2.88543819998 \t2.99068313995 \t3.05572809 \t3.16097302997 \tmidpoint: 3.02320561498\n",
      "2.88543819998 \t2.95048315003 \t2.99068313995 \t3.05572809 \tmidpoint: 2.97058314499\n",
      "2.95048315003 \t2.99068313995 \t3.01552810008 \t3.05572809 \tmidpoint: 3.00310562002\n",
      "2.95048315003 \t2.97532811015 \t2.99068313995 \t3.01552810008 \tmidpoint: 2.98300562505\n",
      "2.97532811015 \t2.99068313995 \t3.00017307027 \t3.01552810008 \tmidpoint: 2.99542810511\n",
      "2.99068313995 \t3.00017307027 \t3.00603816976 \t3.01552810008 \tmidpoint: 3.00310562002\n",
      "2.99068313995 \t2.99654823944 \t3.00017307027 \t3.00603816976 \tmidpoint: 2.99836065486\n",
      "2.99654823944 \t3.00017307027 \t3.00241333893 \t3.00603816976 \tmidpoint: 3.0012932046\n",
      "2.99654823944 \t2.9987885081 \t3.00017307027 \t3.00241333893 \tmidpoint: 2.99948078918\n",
      "2.9987885081 \t3.00017307027 \t3.00102877675 \t3.00241333893 \tmidpoint: 3.00060092351\n",
      "2.9987885081 \t2.99964421458 \t3.00017307027 \t3.00102877675 \tmidpoint: 2.99990864243\n",
      "2.99964421458 \t3.00017307027 \t3.00049992106 \t3.00102877675 \tmidpoint: 3.00033649567\n",
      "2.99964421458 \t2.99997106537 \t3.00017307027 \t3.00049992106 \tmidpoint: 3.00007206782\n",
      "2.99964421458 \t2.99984621948 \t2.99997106537 \t3.00017307027 \tmidpoint: 2.99990864243\n",
      "2.99984621948 \t2.99997106537 \t3.00004822438 \t3.00017307027 \tmidpoint: 3.00000964488\n",
      "2.99984621948 \t2.99992337849 \t2.99997106537 \t3.00004822438 \tmidpoint: 2.99994722193\n",
      "2.99992337849 \t2.99997106537 \t3.00000053749 \t3.00004822438 \tmidpoint: 2.99998580143\n",
      "2.99997106537 \t3.00000053749 \t3.00001875226 \t3.00004822438 \tmidpoint: 3.00000964488\n",
      "2.99997106537 \t2.99998928014 \t3.00000053749 \t3.00001875226 \tmidpoint: 2.99999490882\n",
      "2.99998928014 \t3.00000053749 \t3.00000749491 \t3.00001875226 \tmidpoint: 3.0000040162\n",
      "2.99998928014 \t2.99999623757 \t3.00000053749 \t3.00000749491 \tmidpoint: 2.99999838753\n",
      "2.99999623757 \t3.00000053749 \t3.00000319499 \t3.00000749491 \tmidpoint: 3.00000186624\n",
      "2.99999623757 \t2.99999889507 \t3.00000053749 \t3.00000319499 \tmidpoint: 2.99999971628\n",
      "2.99999889507 \t3.00000053749 \t3.00000155256 \t3.00000319499 \tmidpoint: 3.00000104503\n",
      "2.99999889507 \t2.99999991014 \t3.00000053749 \t3.00000155256 \tmidpoint: 3.00000022382\n",
      "2.99999889507 \t2.99999952242 \t2.99999991014 \t3.00000053749 \tmidpoint: 2.99999971628\n",
      "2.99999952242 \t2.99999991014 \t3.00000014977 \t3.00000053749 \tmidpoint: 3.00000002995\n",
      "2.99999952242 \t2.99999976204 \t2.99999991014 \t3.00000014977 \tmidpoint: 2.99999983609\n",
      "2.99999983609\n"
     ]
    },
    {
     "data": {
      "text/plain": [
       "3.0000002238152712"
      ]
     },
     "execution_count": 8,
     "metadata": {},
     "output_type": "execute_result"
    }
   ],
   "source": [
    "def func(x):\n",
    "    return (x-3)**2 - 1\n",
    "\n",
    "min = goldenSearch(0, 8, func)\n",
    "\n",
    "print min\n",
    "\n",
    "gss(func, 0, 8., 1e-6)"
   ]
  },
  {
   "cell_type": "markdown",
   "metadata": {},
   "source": [
    "## Problem 2"
   ]
  },
  {
   "cell_type": "code",
   "execution_count": null,
   "metadata": {
    "collapsed": true
   },
   "outputs": [],
   "source": []
  }
 ],
 "metadata": {
  "kernelspec": {
   "display_name": "Python 2",
   "language": "python",
   "name": "python2"
  },
  "language_info": {
   "codemirror_mode": {
    "name": "ipython",
    "version": 2
   },
   "file_extension": ".py",
   "mimetype": "text/x-python",
   "name": "python",
   "nbconvert_exporter": "python",
   "pygments_lexer": "ipython2",
   "version": "2.7.11"
  }
 },
 "nbformat": 4,
 "nbformat_minor": 0
}
