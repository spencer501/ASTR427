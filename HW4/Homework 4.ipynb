{
 "cells": [
  {
   "cell_type": "markdown",
   "metadata": {},
   "source": [
    "# Homework 4\n",
    "\n",
    "Spencer Pease  \n",
    "ASTR 427\n",
    "\n",
    "----------------------------"
   ]
  },
  {
   "cell_type": "code",
   "execution_count": 1,
   "metadata": {
    "collapsed": true
   },
   "outputs": [],
   "source": [
    "# Imports\n",
    "\n",
    "import numpy as np\n",
    "import pandas as pd\n",
    "import matplotlib.pyplot as plt\n",
    "\n",
    "%matplotlib inline"
   ]
  },
  {
   "cell_type": "markdown",
   "metadata": {},
   "source": [
    "## Problem 1"
   ]
  },
  {
   "cell_type": "code",
   "execution_count": 2,
   "metadata": {
    "collapsed": false
   },
   "outputs": [],
   "source": [
    "# Golden Section Search method\n",
    "\n",
    "def goldenSearch(lb, rb, f, tol=1e-6):\n",
    "    \"\"\"\n",
    "    goldenSearch finds the minimun of a given function of one variable via a Golden Section Search,\n",
    "    given an initial left and right bound. The function returns the minimum of the function when the\n",
    "    bounds are within the given tolerance\n",
    "    - lb: left bound\n",
    "    - rb: right bound\n",
    "    - f: function of a single variable\n",
    "    - tol: tolerance of the minimum required distance between lb and rb (default 1e-6)\n",
    "    - return: location of that minimizes the function f\n",
    "    \"\"\"\n",
    "    \n",
    "    #golden ratio ~ .618\n",
    "    gratio = (np.sqrt(5) - 1) / 2 \n",
    "    \n",
    "    # evaluate function at bounds\n",
    "    flb = f(lb)\n",
    "    frb = f(rb)\n",
    "    \n",
    "    # compute internal 'midpoints'\n",
    "    lm = rb - gratio*(rb - lb) \n",
    "    rm = lb + gratio*(rb - lb)\n",
    "    \n",
    "    # evaluate function at internal 'midpoints'\n",
    "    flm = f(lm)\n",
    "    frm = f(rm)\n",
    "    \n",
    "    while (np.abs(lb - rb) > tol):\n",
    "        if flm < frm:\n",
    "            rb = rm\n",
    "            rm = lm\n",
    "            lm = rb - gratio*(rb - lb)\n",
    "            frm = flm\n",
    "            flm = f(lm)\n",
    "        else:\n",
    "            lb = lm\n",
    "            lm = rm\n",
    "            rm = lb + gratio*(rb - lb)\n",
    "            flm = frm \n",
    "            frm = f(rm)\n",
    "            \n",
    "    return (rb + lb) / 2"
   ]
  },
  {
   "cell_type": "markdown",
   "metadata": {},
   "source": [
    "## Problem 2"
   ]
  },
  {
   "cell_type": "markdown",
   "metadata": {},
   "source": [
    "Rotaion curve function:  \n",
    "\n",
    "$v_{model}(r) = v_{inf}(1 - e^{-r/r_{0}})$"
   ]
  },
  {
   "cell_type": "code",
   "execution_count": 3,
   "metadata": {
    "collapsed": false
   },
   "outputs": [],
   "source": [
    "# load data\n",
    "filename = 'rot.dat'\n",
    "data = pd.read_csv(filename, header=None, delim_whitespace=True)\n",
    "\n",
    "r_obs = np.array(data.loc[:, 0])\n",
    "v_obs= np.array(data.loc[:, 1])"
   ]
  },
  {
   "cell_type": "code",
   "execution_count": 4,
   "metadata": {
    "collapsed": false
   },
   "outputs": [],
   "source": [
    "# Create error function\n",
    "\n",
    "v_inf = 100\n",
    "\n",
    "def error(r0):\n",
    "    \"\"\"\n",
    "    error is a function that returns the least squares error of the rotational curve equation and the observed data\n",
    "    for a given characteristic radius.\n",
    "    - r0: characteristic radius\n",
    "    - return: the least square error\n",
    "    \"\"\"\n",
    "    v_model = v_inf*(1 - np.exp(-r_obs/r0))\n",
    "    E = np.sum( (v_obs - v_model)**2 )\n",
    "    return E"
   ]
  },
  {
   "cell_type": "code",
   "execution_count": 5,
   "metadata": {
    "collapsed": false
   },
   "outputs": [
    {
     "name": "stdout",
     "output_type": "stream",
     "text": [
      "Value of r0 that makes the function best fit the observed data: 3.33037810419\n"
     ]
    },
    {
     "data": {
      "image/png": "[encoded data removed]",
      "text/plain": [
       "<matplotlib.figure.Figure at 0x948ad68>"
      ]
     },
     "metadata": {},
     "output_type": "display_data"
    }
   ],
   "source": [
    "# Finding minimun\n",
    "min_r0 = goldenSearch(-100, 100, error, 1e-10)\n",
    "print 'Value of r0 that makes the function best fit the observed data:', min_r0\n",
    "\n",
    "# Plotting\n",
    "e = []\n",
    "x = np.arange(0, 15, .01)\n",
    "for i in x:\n",
    "    e.append(error(i))\n",
    "\n",
    "plt.xlim(0, 15)\n",
    "plt.ylim(0, 20000)\n",
    "plt.plot(x, e)\n",
    "plt.plot(min_r0, error(min_r0), marker='o', linestyle='none')\n",
    "\n",
    "plt.xlabel('Characteristic radius r0')\n",
    "plt.ylabel('Error')\n",
    "plt.show()"
   ]
  }
 ],
 "metadata": {
  "kernelspec": {
   "display_name": "Python 2",
   "language": "python",
   "name": "python2"
  },
  "language_info": {
   "codemirror_mode": {
    "name": "ipython",
    "version": 2
   },
   "file_extension": ".py",
   "mimetype": "text/x-python",
   "name": "python",
   "nbconvert_exporter": "python",
   "pygments_lexer": "ipython2",
   "version": "2.7.11"
  }
 },
 "nbformat": 4,
 "nbformat_minor": 0
}
