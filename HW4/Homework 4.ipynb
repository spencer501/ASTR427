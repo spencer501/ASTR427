{
 "cells": [
  {
   "cell_type": "markdown",
   "metadata": {},
   "source": [
    "# Homework 4\n",
    "\n",
    "Spencer Pease  \n",
    "ASTR 427\n",
    "\n",
    "----------------------------"
   ]
  },
  {
   "cell_type": "code",
   "execution_count": 1,
   "metadata": {
    "collapsed": true
   },
   "outputs": [],
   "source": [
    "# Imports\n",
    "\n",
    "import numpy as np\n",
    "import pandas as pd"
   ]
  },
  {
   "cell_type": "markdown",
   "metadata": {},
   "source": [
    "## Problem 1"
   ]
  },
  {
   "cell_type": "code",
   "execution_count": 2,
   "metadata": {
    "collapsed": false
   },
   "outputs": [],
   "source": [
    "# Golden Section Search method\n",
    "\n",
    "def goldenSearch(lb, rb, f, tol=1e-6):\n",
    "    \"\"\"\n",
    "    \n",
    "    - lb: left bound\n",
    "    - rb: right bound\n",
    "    - f: function of a single variable\n",
    "    - tol: tolerance of the minimum required distance between lb and rb (default 1e-6)\n",
    "    - return: location of minimun of function f\n",
    "    \"\"\"\n",
    "    \n",
    "    #golden ration ~ .618\n",
    "    gratio = (np.sqrt(5) - 1) / 2 \n",
    "    \n",
    "    # evaluate function at bounds\n",
    "    flb = f(lb)\n",
    "    frb = f(rb)\n",
    "    \n",
    "    # compute interal 'midpoints'\n",
    "    lm = rb - gratio*(rb - lb) \n",
    "    rm = lb + gratio*(rb - lb)\n",
    "    \n",
    "    # evaluate function at interanl 'midpoints'\n",
    "    flm = f(lm)\n",
    "    frm = f(rm)\n",
    "    \n",
    "    while (np.abs(lb - rb) > tol):\n",
    "        if flm < frm:\n",
    "            rb = rm\n",
    "            rm = lm\n",
    "            lm = rb - gratio*(rb - lb)\n",
    "            frm = flm\n",
    "            flm = f(lm)\n",
    "        else:\n",
    "            lb = lm\n",
    "            lm = rm\n",
    "            rm = lb + gratio*(rb - lb)\n",
    "            flm = frm \n",
    "            frm = f(rm)\n",
    "            \n",
    "    return (rb + lb) / 2"
   ]
  },
  {
   "cell_type": "markdown",
   "metadata": {},
   "source": [
    "## Problem 2"
   ]
  },
  {
   "cell_type": "markdown",
   "metadata": {},
   "source": [
    "Rotaion curve function:  \n",
    "\n",
    "$v_{model}(r) = v_{inf}(1 - e^{-r/r_{0}})$"
   ]
  },
  {
   "cell_type": "code",
   "execution_count": 3,
   "metadata": {
    "collapsed": false
   },
   "outputs": [],
   "source": [
    "# load data\n",
    "filename = 'rot.dat'\n",
    "data = pd.read_csv(filename, header=None, delim_whitespace=True)\n",
    "\n",
    "r_obs = np.array(data.loc[:, 0])\n",
    "v_obs= np.array(data.loc[:, 1])"
   ]
  },
  {
   "cell_type": "code",
   "execution_count": 4,
   "metadata": {
    "collapsed": false
   },
   "outputs": [],
   "source": [
    "v_inf = 100\n",
    "\n",
    "def minimize(r0):\n",
    "    v_model = v_inf*(1 - np.exp(-r_obs/r0))\n",
    "    E = np.sum(v_obs - v_model)\n",
    "    return E"
   ]
  },
  {
   "cell_type": "code",
   "execution_count": null,
   "metadata": {
    "collapsed": true
   },
   "outputs": [],
   "source": []
  }
 ],
 "metadata": {
  "kernelspec": {
   "display_name": "Python 2",
   "language": "python",
   "name": "python2"
  },
  "language_info": {
   "codemirror_mode": {
    "name": "ipython",
    "version": 2
   },
   "file_extension": ".py",
   "mimetype": "text/x-python",
   "name": "python",
   "nbconvert_exporter": "python",
   "pygments_lexer": "ipython2",
   "version": "2.7.11"
  }
 },
 "nbformat": 4,
 "nbformat_minor": 0
}
